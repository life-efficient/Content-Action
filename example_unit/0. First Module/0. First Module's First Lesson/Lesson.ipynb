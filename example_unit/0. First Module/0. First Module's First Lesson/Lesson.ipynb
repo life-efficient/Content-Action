{
 "cells": [
  {
   "cell_type": "markdown",
   "source": [
    "# Hello world!"
   ],
   "metadata": {}
  },
  {
   "cell_type": "markdown",
   "source": [],
   "metadata": {}
  }
 ],
 "metadata": {
  "orig_nbformat": 4,
  "language_info": {
   "name": "bash"
  }
 },
 "nbformat": 4,
 "nbformat_minor": 2
}